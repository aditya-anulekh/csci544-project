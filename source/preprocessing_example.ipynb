{
 "cells": [
  {
   "cell_type": "code",
   "execution_count": 10,
   "metadata": {
    "collapsed": true
   },
   "outputs": [],
   "source": [
    "from utils import (\n",
    "    load_huggingface_dataset,\n",
    "    generate_cda,\n",
    "    generate_cda_df\n",
    ")\n",
    "from tqdm.auto import tqdm"
   ]
  },
  {
   "cell_type": "code",
   "execution_count": 3,
   "outputs": [
    {
     "name": "stderr",
     "output_type": "stream",
     "text": [
      "Found cached dataset snli (/home/aditya/.cache/huggingface/datasets/snli/plain_text/1.0.0/1f60b67533b65ae0275561ff7828aad5ee4282d0e6f844fd148d05d3c6ea251b)\n"
     ]
    },
    {
     "data": {
      "text/plain": "                                             premise  \\\n0  A person on a horse jumps over a broken down a...   \n1  A person on a horse jumps over a broken down a...   \n2  A person on a horse jumps over a broken down a...   \n3              Children smiling and waving at camera   \n4              Children smiling and waving at camera   \n5              Children smiling and waving at camera   \n6  A boy is jumping on skateboard in the middle o...   \n7  A boy is jumping on skateboard in the middle o...   \n8  A boy is jumping on skateboard in the middle o...   \n9  An older man sits with his orange juice at a s...   \n\n                                          hypothesis  label  \n0  A person is training his horse for a competition.      1  \n1      A person is at a diner, ordering an omelette.      2  \n2                  A person is outdoors, on a horse.      0  \n3                  They are smiling at their parents      1  \n4                         There are children present      0  \n5                              The kids are frowning      2  \n6                  The boy skates down the sidewalk.      2  \n7                The boy does a skateboarding trick.      0  \n8               The boy is wearing safety equipment.      1  \n9  An older man drinks his juice as he waits for ...      1  ",
      "text/html": "<div>\n<style scoped>\n    .dataframe tbody tr th:only-of-type {\n        vertical-align: middle;\n    }\n\n    .dataframe tbody tr th {\n        vertical-align: top;\n    }\n\n    .dataframe thead th {\n        text-align: right;\n    }\n</style>\n<table border=\"1\" class=\"dataframe\">\n  <thead>\n    <tr style=\"text-align: right;\">\n      <th></th>\n      <th>premise</th>\n      <th>hypothesis</th>\n      <th>label</th>\n    </tr>\n  </thead>\n  <tbody>\n    <tr>\n      <th>0</th>\n      <td>A person on a horse jumps over a broken down a...</td>\n      <td>A person is training his horse for a competition.</td>\n      <td>1</td>\n    </tr>\n    <tr>\n      <th>1</th>\n      <td>A person on a horse jumps over a broken down a...</td>\n      <td>A person is at a diner, ordering an omelette.</td>\n      <td>2</td>\n    </tr>\n    <tr>\n      <th>2</th>\n      <td>A person on a horse jumps over a broken down a...</td>\n      <td>A person is outdoors, on a horse.</td>\n      <td>0</td>\n    </tr>\n    <tr>\n      <th>3</th>\n      <td>Children smiling and waving at camera</td>\n      <td>They are smiling at their parents</td>\n      <td>1</td>\n    </tr>\n    <tr>\n      <th>4</th>\n      <td>Children smiling and waving at camera</td>\n      <td>There are children present</td>\n      <td>0</td>\n    </tr>\n    <tr>\n      <th>5</th>\n      <td>Children smiling and waving at camera</td>\n      <td>The kids are frowning</td>\n      <td>2</td>\n    </tr>\n    <tr>\n      <th>6</th>\n      <td>A boy is jumping on skateboard in the middle o...</td>\n      <td>The boy skates down the sidewalk.</td>\n      <td>2</td>\n    </tr>\n    <tr>\n      <th>7</th>\n      <td>A boy is jumping on skateboard in the middle o...</td>\n      <td>The boy does a skateboarding trick.</td>\n      <td>0</td>\n    </tr>\n    <tr>\n      <th>8</th>\n      <td>A boy is jumping on skateboard in the middle o...</td>\n      <td>The boy is wearing safety equipment.</td>\n      <td>1</td>\n    </tr>\n    <tr>\n      <th>9</th>\n      <td>An older man sits with his orange juice at a s...</td>\n      <td>An older man drinks his juice as he waits for ...</td>\n      <td>1</td>\n    </tr>\n  </tbody>\n</table>\n</div>"
     },
     "execution_count": 3,
     "metadata": {},
     "output_type": "execute_result"
    }
   ],
   "source": [
    "data = load_huggingface_dataset(dataset_name='snli', split='train', to_pandas=True)\n",
    "data.head(10)"
   ],
   "metadata": {
    "collapsed": false
   }
  },
  {
   "cell_type": "code",
   "execution_count": 4,
   "outputs": [
    {
     "data": {
      "text/plain": "                                              premise  \\\n2   A person on a horse jumps over a broken down a...   \n4               Children smiling and waving at camera   \n7   A boy is jumping on skateboard in the middle o...   \n14           Two blond women are hugging one another.   \n17  A few people in a restaurant setting, one of t...   \n18  An older man is drinking orange juice at a res...   \n23  A man with blond-hair, and a brown shirt drink...   \n25  Two women who just had lunch hugging and sayin...   \n29  Two women, holding food carryout containers, hug.   \n31  A Little League team tries to catch a runner s...   \n\n                                     hypothesis  label  \n2             A person is outdoors, on a horse.      0  \n4                    There are children present      0  \n7           The boy does a skateboarding trick.      0  \n14           There are women showing affection.      0  \n17              The diners are at a restaurant.      0  \n18                     A man is drinking juice.      0  \n23  A blond man drinking water from a fountain.      0  \n25         There are two woman in this picture.      0  \n29                    Two women hug each other.      0  \n31        A team is trying to tag a runner out.      0  ",
      "text/html": "<div>\n<style scoped>\n    .dataframe tbody tr th:only-of-type {\n        vertical-align: middle;\n    }\n\n    .dataframe tbody tr th {\n        vertical-align: top;\n    }\n\n    .dataframe thead th {\n        text-align: right;\n    }\n</style>\n<table border=\"1\" class=\"dataframe\">\n  <thead>\n    <tr style=\"text-align: right;\">\n      <th></th>\n      <th>premise</th>\n      <th>hypothesis</th>\n      <th>label</th>\n    </tr>\n  </thead>\n  <tbody>\n    <tr>\n      <th>2</th>\n      <td>A person on a horse jumps over a broken down a...</td>\n      <td>A person is outdoors, on a horse.</td>\n      <td>0</td>\n    </tr>\n    <tr>\n      <th>4</th>\n      <td>Children smiling and waving at camera</td>\n      <td>There are children present</td>\n      <td>0</td>\n    </tr>\n    <tr>\n      <th>7</th>\n      <td>A boy is jumping on skateboard in the middle o...</td>\n      <td>The boy does a skateboarding trick.</td>\n      <td>0</td>\n    </tr>\n    <tr>\n      <th>14</th>\n      <td>Two blond women are hugging one another.</td>\n      <td>There are women showing affection.</td>\n      <td>0</td>\n    </tr>\n    <tr>\n      <th>17</th>\n      <td>A few people in a restaurant setting, one of t...</td>\n      <td>The diners are at a restaurant.</td>\n      <td>0</td>\n    </tr>\n    <tr>\n      <th>18</th>\n      <td>An older man is drinking orange juice at a res...</td>\n      <td>A man is drinking juice.</td>\n      <td>0</td>\n    </tr>\n    <tr>\n      <th>23</th>\n      <td>A man with blond-hair, and a brown shirt drink...</td>\n      <td>A blond man drinking water from a fountain.</td>\n      <td>0</td>\n    </tr>\n    <tr>\n      <th>25</th>\n      <td>Two women who just had lunch hugging and sayin...</td>\n      <td>There are two woman in this picture.</td>\n      <td>0</td>\n    </tr>\n    <tr>\n      <th>29</th>\n      <td>Two women, holding food carryout containers, hug.</td>\n      <td>Two women hug each other.</td>\n      <td>0</td>\n    </tr>\n    <tr>\n      <th>31</th>\n      <td>A Little League team tries to catch a runner s...</td>\n      <td>A team is trying to tag a runner out.</td>\n      <td>0</td>\n    </tr>\n  </tbody>\n</table>\n</div>"
     },
     "execution_count": 4,
     "metadata": {},
     "output_type": "execute_result"
    }
   ],
   "source": [
    "# Filter only entailment pairs from the SNLI dataset\n",
    "# Entailment pairs are labeled as 0\n",
    "data = data[data.label == 0]\n",
    "data.head(10)"
   ],
   "metadata": {
    "collapsed": false
   }
  },
  {
   "cell_type": "code",
   "execution_count": 5,
   "outputs": [],
   "source": [
    "# Word pairs listed in the MABEL paper\n",
    "word_pairs = {\n",
    "    'man': 'woman',\n",
    "    'men': 'women',\n",
    "    'boy': 'girl',\n",
    "    'boys': 'girls',\n",
    "    'he': 'she',\n",
    "    'father': 'mother',\n",
    "    'son': 'daughter',\n",
    "    'sons': 'daughters',\n",
    "    'guy': 'gal',\n",
    "    'guys': 'gals',\n",
    "    'male': 'female',\n",
    "    'his': 'her',\n",
    "    'himself': 'herself'\n",
    "}\n",
    "\n",
    "# Update the dictionary with reverse keys as well\n",
    "word_pairs.update({v: k for k, v in word_pairs.items()})"
   ],
   "metadata": {
    "collapsed": false
   }
  },
  {
   "cell_type": "code",
   "execution_count": 8,
   "outputs": [
    {
     "data": {
      "text/plain": "('A woman and a man are drinking coffee', True)"
     },
     "execution_count": 8,
     "metadata": {},
     "output_type": "execute_result"
    }
   ],
   "source": [
    "# Counterfactual Data Augmentation on an example sentence\n",
    "sentence_ex = 'A man and a woman are drinking coffee'\n",
    "\n",
    "# Generate CDA returns the transformed sentence and a boolean that stores if the input was transformed\n",
    "generate_cda(sentence_ex, word_pairs)"
   ],
   "metadata": {
    "collapsed": false
   }
  },
  {
   "cell_type": "code",
   "execution_count": 11,
   "outputs": [
    {
     "data": {
      "text/plain": "  0%|          | 0/183416 [00:00<?, ?it/s]",
      "application/vnd.jupyter.widget-view+json": {
       "version_major": 2,
       "version_minor": 0,
       "model_id": "3bb4bb2a58c947b1a7ac63760e297237"
      }
     },
     "metadata": {},
     "output_type": "display_data"
    }
   ],
   "source": [
    "# Apply the generate CDA function on the dataframe\n",
    "tqdm.pandas()\n",
    "data[['aug_sent0', 'aug_sent1', 'both']] = data.progress_apply(generate_cda_df, axis=1, result_type='expand', args=(word_pairs,))"
   ],
   "metadata": {
    "collapsed": false
   }
  },
  {
   "cell_type": "code",
   "execution_count": 15,
   "outputs": [
    {
     "data": {
      "text/plain": "                                              premise  \\\n2   A person on a horse jumps over a broken down a...   \n4               Children smiling and waving at camera   \n7   A boy is jumping on skateboard in the middle o...   \n14           Two blond women are hugging one another.   \n17  A few people in a restaurant setting, one of t...   \n18  An older man is drinking orange juice at a res...   \n23  A man with blond-hair, and a brown shirt drink...   \n25  Two women who just had lunch hugging and sayin...   \n29  Two women, holding food carryout containers, hug.   \n31  A Little League team tries to catch a runner s...   \n35  The school is having a special event in order ...   \n37  High fashion ladies wait outside a tram beside...   \n40  A man, woman, and child enjoying themselves on...   \n43  People waiting to get on a train or just getti...   \n44  People waiting to get on a train or just getti...   \n45   A couple playing with a little boy on the beach.   \n49    A couple play in the tide with their young son.   \n52  A man and a woman cross the street in front of...   \n56  A woman in a green jacket and hood over her he...   \n59  Woman in white in foreground and a man slightl...   \n\n                                           hypothesis  label  \\\n2                   A person is outdoors, on a horse.      0   \n4                          There are children present      0   \n7                 The boy does a skateboarding trick.      0   \n14                 There are women showing affection.      0   \n17                    The diners are at a restaurant.      0   \n18                           A man is drinking juice.      0   \n23        A blond man drinking water from a fountain.      0   \n25               There are two woman in this picture.      0   \n29                          Two women hug each other.      0   \n31              A team is trying to tag a runner out.      0   \n35                      A school is hosting an event.      0   \n37                       Women are waiting by a tram.      0   \n40                 A family of three is at the beach.      0   \n43           There are people just getting on a train      0   \n44               There are people waiting on a train.      0   \n45   A couple are playing with a young child outside.      0   \n49                             The family is outside.      0   \n52  Near a couple of restaurants, two people walk ...      0   \n56                        The woman is wearing green.      0   \n59                                  A woman in white.      0   \n\n                                            aug_sent0  \\\n2   A person on a horse jumps over a broken down a...   \n4               Children smiling and waving at camera   \n7   A girl is jumping on skateboard in the middle ...   \n14             Two blond men are hugging one another.   \n17  A few people in a restaurant setting, one of t...   \n18  An older woman is drinking orange juice at a r...   \n23  A woman with blond-hair, and a brown shirt dri...   \n25  Two men who just had lunch hugging and saying ...   \n29  Two women, holding food carryout containers, hug.   \n31  A Little League team tries to catch a runner s...   \n35  The school is having a special event in order ...   \n37  High fashion ladies wait outside a tram beside...   \n40  A man, woman, and child enjoying themselves on...   \n43  People waiting to get on a train or just getti...   \n44  People waiting to get on a train or just getti...   \n45  A couple playing with a little girl on the beach.   \n49    A couple play in the tide with their young son.   \n52  A woman and a man cross the street in front of...   \n56  A man in a green jacket and hood over his head...   \n59  Woman in white in foreground and a woman sligh...   \n\n                                            aug_sent1  both  \n2                   A person is outdoors, on a horse.     0  \n4                          There are children present     0  \n7                The girl does a skateboarding trick.     1  \n14                   There are men showing affection.     1  \n17                    The diners are at a restaurant.     0  \n18                         A woman is drinking juice.     1  \n23      A blond woman drinking water from a fountain.     1  \n25                 There are two man in this picture.     1  \n29                            Two men hug each other.     0  \n31              A team is trying to tag a runner out.     0  \n35                      A school is hosting an event.     0  \n37                       Women are waiting by a tram.     0  \n40                 A family of three is at the beach.     0  \n43           There are people just getting on a train     0  \n44               There are people waiting on a train.     0  \n45   A couple are playing with a young child outside.     0  \n49                             The family is outside.     0  \n52  Near a couple of restaurants, two people walk ...     0  \n56                          The man is wearing green.     1  \n59                                    A man in white.     1  ",
      "text/html": "<div>\n<style scoped>\n    .dataframe tbody tr th:only-of-type {\n        vertical-align: middle;\n    }\n\n    .dataframe tbody tr th {\n        vertical-align: top;\n    }\n\n    .dataframe thead th {\n        text-align: right;\n    }\n</style>\n<table border=\"1\" class=\"dataframe\">\n  <thead>\n    <tr style=\"text-align: right;\">\n      <th></th>\n      <th>premise</th>\n      <th>hypothesis</th>\n      <th>label</th>\n      <th>aug_sent0</th>\n      <th>aug_sent1</th>\n      <th>both</th>\n    </tr>\n  </thead>\n  <tbody>\n    <tr>\n      <th>2</th>\n      <td>A person on a horse jumps over a broken down a...</td>\n      <td>A person is outdoors, on a horse.</td>\n      <td>0</td>\n      <td>A person on a horse jumps over a broken down a...</td>\n      <td>A person is outdoors, on a horse.</td>\n      <td>0</td>\n    </tr>\n    <tr>\n      <th>4</th>\n      <td>Children smiling and waving at camera</td>\n      <td>There are children present</td>\n      <td>0</td>\n      <td>Children smiling and waving at camera</td>\n      <td>There are children present</td>\n      <td>0</td>\n    </tr>\n    <tr>\n      <th>7</th>\n      <td>A boy is jumping on skateboard in the middle o...</td>\n      <td>The boy does a skateboarding trick.</td>\n      <td>0</td>\n      <td>A girl is jumping on skateboard in the middle ...</td>\n      <td>The girl does a skateboarding trick.</td>\n      <td>1</td>\n    </tr>\n    <tr>\n      <th>14</th>\n      <td>Two blond women are hugging one another.</td>\n      <td>There are women showing affection.</td>\n      <td>0</td>\n      <td>Two blond men are hugging one another.</td>\n      <td>There are men showing affection.</td>\n      <td>1</td>\n    </tr>\n    <tr>\n      <th>17</th>\n      <td>A few people in a restaurant setting, one of t...</td>\n      <td>The diners are at a restaurant.</td>\n      <td>0</td>\n      <td>A few people in a restaurant setting, one of t...</td>\n      <td>The diners are at a restaurant.</td>\n      <td>0</td>\n    </tr>\n    <tr>\n      <th>18</th>\n      <td>An older man is drinking orange juice at a res...</td>\n      <td>A man is drinking juice.</td>\n      <td>0</td>\n      <td>An older woman is drinking orange juice at a r...</td>\n      <td>A woman is drinking juice.</td>\n      <td>1</td>\n    </tr>\n    <tr>\n      <th>23</th>\n      <td>A man with blond-hair, and a brown shirt drink...</td>\n      <td>A blond man drinking water from a fountain.</td>\n      <td>0</td>\n      <td>A woman with blond-hair, and a brown shirt dri...</td>\n      <td>A blond woman drinking water from a fountain.</td>\n      <td>1</td>\n    </tr>\n    <tr>\n      <th>25</th>\n      <td>Two women who just had lunch hugging and sayin...</td>\n      <td>There are two woman in this picture.</td>\n      <td>0</td>\n      <td>Two men who just had lunch hugging and saying ...</td>\n      <td>There are two man in this picture.</td>\n      <td>1</td>\n    </tr>\n    <tr>\n      <th>29</th>\n      <td>Two women, holding food carryout containers, hug.</td>\n      <td>Two women hug each other.</td>\n      <td>0</td>\n      <td>Two women, holding food carryout containers, hug.</td>\n      <td>Two men hug each other.</td>\n      <td>0</td>\n    </tr>\n    <tr>\n      <th>31</th>\n      <td>A Little League team tries to catch a runner s...</td>\n      <td>A team is trying to tag a runner out.</td>\n      <td>0</td>\n      <td>A Little League team tries to catch a runner s...</td>\n      <td>A team is trying to tag a runner out.</td>\n      <td>0</td>\n    </tr>\n    <tr>\n      <th>35</th>\n      <td>The school is having a special event in order ...</td>\n      <td>A school is hosting an event.</td>\n      <td>0</td>\n      <td>The school is having a special event in order ...</td>\n      <td>A school is hosting an event.</td>\n      <td>0</td>\n    </tr>\n    <tr>\n      <th>37</th>\n      <td>High fashion ladies wait outside a tram beside...</td>\n      <td>Women are waiting by a tram.</td>\n      <td>0</td>\n      <td>High fashion ladies wait outside a tram beside...</td>\n      <td>Women are waiting by a tram.</td>\n      <td>0</td>\n    </tr>\n    <tr>\n      <th>40</th>\n      <td>A man, woman, and child enjoying themselves on...</td>\n      <td>A family of three is at the beach.</td>\n      <td>0</td>\n      <td>A man, woman, and child enjoying themselves on...</td>\n      <td>A family of three is at the beach.</td>\n      <td>0</td>\n    </tr>\n    <tr>\n      <th>43</th>\n      <td>People waiting to get on a train or just getti...</td>\n      <td>There are people just getting on a train</td>\n      <td>0</td>\n      <td>People waiting to get on a train or just getti...</td>\n      <td>There are people just getting on a train</td>\n      <td>0</td>\n    </tr>\n    <tr>\n      <th>44</th>\n      <td>People waiting to get on a train or just getti...</td>\n      <td>There are people waiting on a train.</td>\n      <td>0</td>\n      <td>People waiting to get on a train or just getti...</td>\n      <td>There are people waiting on a train.</td>\n      <td>0</td>\n    </tr>\n    <tr>\n      <th>45</th>\n      <td>A couple playing with a little boy on the beach.</td>\n      <td>A couple are playing with a young child outside.</td>\n      <td>0</td>\n      <td>A couple playing with a little girl on the beach.</td>\n      <td>A couple are playing with a young child outside.</td>\n      <td>0</td>\n    </tr>\n    <tr>\n      <th>49</th>\n      <td>A couple play in the tide with their young son.</td>\n      <td>The family is outside.</td>\n      <td>0</td>\n      <td>A couple play in the tide with their young son.</td>\n      <td>The family is outside.</td>\n      <td>0</td>\n    </tr>\n    <tr>\n      <th>52</th>\n      <td>A man and a woman cross the street in front of...</td>\n      <td>Near a couple of restaurants, two people walk ...</td>\n      <td>0</td>\n      <td>A woman and a man cross the street in front of...</td>\n      <td>Near a couple of restaurants, two people walk ...</td>\n      <td>0</td>\n    </tr>\n    <tr>\n      <th>56</th>\n      <td>A woman in a green jacket and hood over her he...</td>\n      <td>The woman is wearing green.</td>\n      <td>0</td>\n      <td>A man in a green jacket and hood over his head...</td>\n      <td>The man is wearing green.</td>\n      <td>1</td>\n    </tr>\n    <tr>\n      <th>59</th>\n      <td>Woman in white in foreground and a man slightl...</td>\n      <td>A woman in white.</td>\n      <td>0</td>\n      <td>Woman in white in foreground and a woman sligh...</td>\n      <td>A man in white.</td>\n      <td>1</td>\n    </tr>\n  </tbody>\n</table>\n</div>"
     },
     "execution_count": 15,
     "metadata": {},
     "output_type": "execute_result"
    }
   ],
   "source": [
    "data.head(20)"
   ],
   "metadata": {
    "collapsed": false
   }
  },
  {
   "cell_type": "markdown",
   "source": [
    "# TODOs for upcoming milestones\n",
    "\n",
    "* Making the word map case-insensitive and also handle punctuations. For example in the above output, although 'woman' is changed to 'man' in the augmented sentence, 'Woman' is not transformed to 'Man'. The same holds true for 'woman,' etc.\n",
    "* Expanding the word map to incorporate more transformations. The word map used in this notebook is the one listed in the original paper. For this project, we intend to use a much larger word map available [here](https://github.com/uclanlp/gn_glove/tree/master/wordlist)."
   ],
   "metadata": {
    "collapsed": false
   }
  },
  {
   "cell_type": "markdown",
   "source": [],
   "metadata": {
    "collapsed": false
   }
  }
 ],
 "metadata": {
  "kernelspec": {
   "display_name": "Python 3",
   "language": "python",
   "name": "python3"
  },
  "language_info": {
   "codemirror_mode": {
    "name": "ipython",
    "version": 2
   },
   "file_extension": ".py",
   "mimetype": "text/x-python",
   "name": "python",
   "nbconvert_exporter": "python",
   "pygments_lexer": "ipython2",
   "version": "2.7.6"
  }
 },
 "nbformat": 4,
 "nbformat_minor": 0
}
